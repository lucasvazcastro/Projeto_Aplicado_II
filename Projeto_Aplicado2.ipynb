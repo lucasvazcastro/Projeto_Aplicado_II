{
  "nbformat": 4,
  "nbformat_minor": 0,
  "metadata": {
    "colab": {
      "provenance": [],
      "include_colab_link": true
    },
    "kernelspec": {
      "name": "python3",
      "display_name": "Python 3"
    },
    "language_info": {
      "name": "python"
    }
  },
  "cells": [
    {
      "cell_type": "markdown",
      "metadata": {
        "id": "view-in-github",
        "colab_type": "text"
      },
      "source": [
        "<a href=\"https://colab.research.google.com/github/lucasvazcastro/Projeto_Aplicado_II/blob/main/Projeto_Aplicado2.ipynb\" target=\"_parent\"><img src=\"https://colab.research.google.com/assets/colab-badge.svg\" alt=\"Open In Colab\"/></a>"
      ]
    },
    {
      "cell_type": "code",
      "execution_count": null,
      "metadata": {
        "cellView": "form",
        "id": "tO1NXvfzDMNv"
      },
      "outputs": [],
      "source": [
        "#@title Identificação\n",
        "\n",
        "#@markdown Turma\n",
        "Turma = '2024.2 - 03A - Ciência de Dados' #@param {type:\"string\"}\n",
        "#@markdown Integrantes do Grupo\n",
        "Aluno1 = 'Clayton dos Santos Lira - RA 10416054' #@param {type:\"string\"}\n",
        "Aluno2 = 'Lorena Vaz Cord - RA 10424700' #@param {type:\"string\"}\n",
        "Aluno3 = 'Tiago Clemente Rodrigues - RA 10423746' #@param {type:\"string\"}\n",
        "Aluno4 = 'Lucas Vaz de Castro Oliveira - RA 10424623' #@param {type:\"string\"}"
      ]
    },
    {
      "cell_type": "markdown",
      "source": [
        "# Análise de Sentimento em Comentários de E-commerce Usando Processamento de Linguagem Natural e Aprendizado de Máquina"
      ],
      "metadata": {
        "id": "ez0Z49jIGKdj"
      }
    },
    {
      "cell_type": "code",
      "source": [
        "#instalação de bibliotecas\n",
        "!pip install emoji\n",
        "!pip install unidecode"
      ],
      "metadata": {
        "colab": {
          "base_uri": "https://localhost:8080/"
        },
        "id": "cKWdQd8xsFb1",
        "outputId": "002a695b-5a30-46b7-cb30-f54d431cf48d"
      },
      "execution_count": null,
      "outputs": [
        {
          "output_type": "stream",
          "name": "stdout",
          "text": [
            "Collecting emoji\n",
            "  Downloading emoji-2.14.0-py3-none-any.whl.metadata (5.7 kB)\n",
            "Downloading emoji-2.14.0-py3-none-any.whl (586 kB)\n",
            "\u001b[?25l   \u001b[90m━━━━━━━━━━━━━━━━━━━━━━━━━━━━━━━━━━━━━━━━\u001b[0m \u001b[32m0.0/586.9 kB\u001b[0m \u001b[31m?\u001b[0m eta \u001b[36m-:--:--\u001b[0m\r\u001b[2K   \u001b[91m━━━━━━━━━━━━━━━━━━━━━━━━━━━━━━━━━━━━━━━\u001b[0m\u001b[91m╸\u001b[0m \u001b[32m583.7/586.9 kB\u001b[0m \u001b[31m25.9 MB/s\u001b[0m eta \u001b[36m0:00:01\u001b[0m\r\u001b[2K   \u001b[90m━━━━━━━━━━━━━━━━━━━━━━━━━━━━━━━━━━━━━━━━\u001b[0m \u001b[32m586.9/586.9 kB\u001b[0m \u001b[31m15.2 MB/s\u001b[0m eta \u001b[36m0:00:00\u001b[0m\n",
            "\u001b[?25hInstalling collected packages: emoji\n",
            "Successfully installed emoji-2.14.0\n",
            "Collecting unidecode\n",
            "  Downloading Unidecode-1.3.8-py3-none-any.whl.metadata (13 kB)\n",
            "Downloading Unidecode-1.3.8-py3-none-any.whl (235 kB)\n",
            "\u001b[2K   \u001b[90m━━━━━━━━━━━━━━━━━━━━━━━━━━━━━━━━━━━━━━━━\u001b[0m \u001b[32m235.5/235.5 kB\u001b[0m \u001b[31m3.9 MB/s\u001b[0m eta \u001b[36m0:00:00\u001b[0m\n",
            "\u001b[?25hInstalling collected packages: unidecode\n",
            "Successfully installed unidecode-1.3.8\n"
          ]
        }
      ]
    },
    {
      "cell_type": "code",
      "source": [
        "#importação das bibliotecas necessárias para a análise\n",
        "import pandas as pd\n",
        "import numpy as np\n",
        "import matplotlib.pyplot as plt\n",
        "plt.style.use('ggplot')\n"
      ],
      "metadata": {
        "id": "PIQp3lADGKJv"
      },
      "execution_count": null,
      "outputs": []
    },
    {
      "cell_type": "code",
      "source": [
        "#importação da base das bases de dados de relevância\n",
        "\n",
        "reviews = pd.read_csv('/content/olist_order_reviews_dataset.csv')"
      ],
      "metadata": {
        "id": "b6-nkbUfGOpc"
      },
      "execution_count": null,
      "outputs": []
    },
    {
      "cell_type": "code",
      "source": [
        "reviews.head(10)"
      ],
      "metadata": {
        "colab": {
          "base_uri": "https://localhost:8080/",
          "height": 363
        },
        "id": "G-JlAaNaeend",
        "outputId": "d4985ce3-0c11-4845-d9a2-5ee4d9f2a48e"
      },
      "execution_count": null,
      "outputs": [
        {
          "output_type": "execute_result",
          "data": {
            "text/plain": [
              "                          review_id                          order_id  \\\n",
              "0  7bc2406110b926393aa56f80a40eba40  73fc7af87114b39712e6da79b0a377eb   \n",
              "1  80e641a11e56f04c1ad469d5645fdfde  a548910a1c6147796b98fdf73dbeba33   \n",
              "2  228ce5500dc1d8e020d8d1322874b6f0  f9e4b658b201a9f2ecdecbb34bed034b   \n",
              "3  e64fb393e7b32834bb789ff8bb30750e  658677c97b385a9be170737859d3511b   \n",
              "4  f7c4243c7fe1938f181bec41a392bdeb  8e6bfb81e283fa7e4f11123a3fb894f1   \n",
              "5  15197aa66ff4d0650b5434f1b46cda19  b18dcdf73be66366873cd26c5724d1dc   \n",
              "6  07f9bee5d1b850860defd761afa7ff16  e48aa0d2dcec3a2e87348811bcfdf22b   \n",
              "7  7c6400515c67679fbee952a7525281ef  c31a859e34e3adac22f376954e19b39d   \n",
              "8  a3f6f7f6f433de0aefbb97da197c554c  9c214ac970e84273583ab523dfafd09b   \n",
              "9  8670d52e15e00043ae7de4c01cc2fe06  b9bf720beb4ab3728760088589c62129   \n",
              "\n",
              "   review_score review_comment_title  \\\n",
              "0             4                  NaN   \n",
              "1             5                  NaN   \n",
              "2             5                  NaN   \n",
              "3             5                  NaN   \n",
              "4             5                  NaN   \n",
              "5             1                  NaN   \n",
              "6             5                  NaN   \n",
              "7             5                  NaN   \n",
              "8             5                  NaN   \n",
              "9             4            recomendo   \n",
              "\n",
              "                              review_comment_message review_creation_date  \\\n",
              "0                                                NaN  2018-01-18 00:00:00   \n",
              "1                                                NaN  2018-03-10 00:00:00   \n",
              "2                                                NaN  2018-02-17 00:00:00   \n",
              "3              Recebi bem antes do prazo estipulado.  2017-04-21 00:00:00   \n",
              "4  Parabéns lojas lannister adorei comprar pela I...  2018-03-01 00:00:00   \n",
              "5                                                NaN  2018-04-13 00:00:00   \n",
              "6                                                NaN  2017-07-16 00:00:00   \n",
              "7                                                NaN  2018-08-14 00:00:00   \n",
              "8                                                NaN  2017-05-17 00:00:00   \n",
              "9  aparelho eficiente. no site a marca do aparelh...  2018-05-22 00:00:00   \n",
              "\n",
              "  review_answer_timestamp  \n",
              "0     2018-01-18 21:46:59  \n",
              "1     2018-03-11 03:05:13  \n",
              "2     2018-02-18 14:36:24  \n",
              "3     2017-04-21 22:02:06  \n",
              "4     2018-03-02 10:26:53  \n",
              "5     2018-04-16 00:39:37  \n",
              "6     2017-07-18 19:30:34  \n",
              "7     2018-08-14 21:36:06  \n",
              "8     2017-05-18 12:05:37  \n",
              "9     2018-05-23 16:45:47  "
            ],
            "text/html": [
              "\n",
              "  <div id=\"df-2379962f-0e62-4adc-9822-4c9aeb5f4d3a\" class=\"colab-df-container\">\n",
              "    <div>\n",
              "<style scoped>\n",
              "    .dataframe tbody tr th:only-of-type {\n",
              "        vertical-align: middle;\n",
              "    }\n",
              "\n",
              "    .dataframe tbody tr th {\n",
              "        vertical-align: top;\n",
              "    }\n",
              "\n",
              "    .dataframe thead th {\n",
              "        text-align: right;\n",
              "    }\n",
              "</style>\n",
              "<table border=\"1\" class=\"dataframe\">\n",
              "  <thead>\n",
              "    <tr style=\"text-align: right;\">\n",
              "      <th></th>\n",
              "      <th>review_id</th>\n",
              "      <th>order_id</th>\n",
              "      <th>review_score</th>\n",
              "      <th>review_comment_title</th>\n",
              "      <th>review_comment_message</th>\n",
              "      <th>review_creation_date</th>\n",
              "      <th>review_answer_timestamp</th>\n",
              "    </tr>\n",
              "  </thead>\n",
              "  <tbody>\n",
              "    <tr>\n",
              "      <th>0</th>\n",
              "      <td>7bc2406110b926393aa56f80a40eba40</td>\n",
              "      <td>73fc7af87114b39712e6da79b0a377eb</td>\n",
              "      <td>4</td>\n",
              "      <td>NaN</td>\n",
              "      <td>NaN</td>\n",
              "      <td>2018-01-18 00:00:00</td>\n",
              "      <td>2018-01-18 21:46:59</td>\n",
              "    </tr>\n",
              "    <tr>\n",
              "      <th>1</th>\n",
              "      <td>80e641a11e56f04c1ad469d5645fdfde</td>\n",
              "      <td>a548910a1c6147796b98fdf73dbeba33</td>\n",
              "      <td>5</td>\n",
              "      <td>NaN</td>\n",
              "      <td>NaN</td>\n",
              "      <td>2018-03-10 00:00:00</td>\n",
              "      <td>2018-03-11 03:05:13</td>\n",
              "    </tr>\n",
              "    <tr>\n",
              "      <th>2</th>\n",
              "      <td>228ce5500dc1d8e020d8d1322874b6f0</td>\n",
              "      <td>f9e4b658b201a9f2ecdecbb34bed034b</td>\n",
              "      <td>5</td>\n",
              "      <td>NaN</td>\n",
              "      <td>NaN</td>\n",
              "      <td>2018-02-17 00:00:00</td>\n",
              "      <td>2018-02-18 14:36:24</td>\n",
              "    </tr>\n",
              "    <tr>\n",
              "      <th>3</th>\n",
              "      <td>e64fb393e7b32834bb789ff8bb30750e</td>\n",
              "      <td>658677c97b385a9be170737859d3511b</td>\n",
              "      <td>5</td>\n",
              "      <td>NaN</td>\n",
              "      <td>Recebi bem antes do prazo estipulado.</td>\n",
              "      <td>2017-04-21 00:00:00</td>\n",
              "      <td>2017-04-21 22:02:06</td>\n",
              "    </tr>\n",
              "    <tr>\n",
              "      <th>4</th>\n",
              "      <td>f7c4243c7fe1938f181bec41a392bdeb</td>\n",
              "      <td>8e6bfb81e283fa7e4f11123a3fb894f1</td>\n",
              "      <td>5</td>\n",
              "      <td>NaN</td>\n",
              "      <td>Parabéns lojas lannister adorei comprar pela I...</td>\n",
              "      <td>2018-03-01 00:00:00</td>\n",
              "      <td>2018-03-02 10:26:53</td>\n",
              "    </tr>\n",
              "    <tr>\n",
              "      <th>5</th>\n",
              "      <td>15197aa66ff4d0650b5434f1b46cda19</td>\n",
              "      <td>b18dcdf73be66366873cd26c5724d1dc</td>\n",
              "      <td>1</td>\n",
              "      <td>NaN</td>\n",
              "      <td>NaN</td>\n",
              "      <td>2018-04-13 00:00:00</td>\n",
              "      <td>2018-04-16 00:39:37</td>\n",
              "    </tr>\n",
              "    <tr>\n",
              "      <th>6</th>\n",
              "      <td>07f9bee5d1b850860defd761afa7ff16</td>\n",
              "      <td>e48aa0d2dcec3a2e87348811bcfdf22b</td>\n",
              "      <td>5</td>\n",
              "      <td>NaN</td>\n",
              "      <td>NaN</td>\n",
              "      <td>2017-07-16 00:00:00</td>\n",
              "      <td>2017-07-18 19:30:34</td>\n",
              "    </tr>\n",
              "    <tr>\n",
              "      <th>7</th>\n",
              "      <td>7c6400515c67679fbee952a7525281ef</td>\n",
              "      <td>c31a859e34e3adac22f376954e19b39d</td>\n",
              "      <td>5</td>\n",
              "      <td>NaN</td>\n",
              "      <td>NaN</td>\n",
              "      <td>2018-08-14 00:00:00</td>\n",
              "      <td>2018-08-14 21:36:06</td>\n",
              "    </tr>\n",
              "    <tr>\n",
              "      <th>8</th>\n",
              "      <td>a3f6f7f6f433de0aefbb97da197c554c</td>\n",
              "      <td>9c214ac970e84273583ab523dfafd09b</td>\n",
              "      <td>5</td>\n",
              "      <td>NaN</td>\n",
              "      <td>NaN</td>\n",
              "      <td>2017-05-17 00:00:00</td>\n",
              "      <td>2017-05-18 12:05:37</td>\n",
              "    </tr>\n",
              "    <tr>\n",
              "      <th>9</th>\n",
              "      <td>8670d52e15e00043ae7de4c01cc2fe06</td>\n",
              "      <td>b9bf720beb4ab3728760088589c62129</td>\n",
              "      <td>4</td>\n",
              "      <td>recomendo</td>\n",
              "      <td>aparelho eficiente. no site a marca do aparelh...</td>\n",
              "      <td>2018-05-22 00:00:00</td>\n",
              "      <td>2018-05-23 16:45:47</td>\n",
              "    </tr>\n",
              "  </tbody>\n",
              "</table>\n",
              "</div>\n",
              "    <div class=\"colab-df-buttons\">\n",
              "\n",
              "  <div class=\"colab-df-container\">\n",
              "    <button class=\"colab-df-convert\" onclick=\"convertToInteractive('df-2379962f-0e62-4adc-9822-4c9aeb5f4d3a')\"\n",
              "            title=\"Convert this dataframe to an interactive table.\"\n",
              "            style=\"display:none;\">\n",
              "\n",
              "  <svg xmlns=\"http://www.w3.org/2000/svg\" height=\"24px\" viewBox=\"0 -960 960 960\">\n",
              "    <path d=\"M120-120v-720h720v720H120Zm60-500h600v-160H180v160Zm220 220h160v-160H400v160Zm0 220h160v-160H400v160ZM180-400h160v-160H180v160Zm440 0h160v-160H620v160ZM180-180h160v-160H180v160Zm440 0h160v-160H620v160Z\"/>\n",
              "  </svg>\n",
              "    </button>\n",
              "\n",
              "  <style>\n",
              "    .colab-df-container {\n",
              "      display:flex;\n",
              "      gap: 12px;\n",
              "    }\n",
              "\n",
              "    .colab-df-convert {\n",
              "      background-color: #E8F0FE;\n",
              "      border: none;\n",
              "      border-radius: 50%;\n",
              "      cursor: pointer;\n",
              "      display: none;\n",
              "      fill: #1967D2;\n",
              "      height: 32px;\n",
              "      padding: 0 0 0 0;\n",
              "      width: 32px;\n",
              "    }\n",
              "\n",
              "    .colab-df-convert:hover {\n",
              "      background-color: #E2EBFA;\n",
              "      box-shadow: 0px 1px 2px rgba(60, 64, 67, 0.3), 0px 1px 3px 1px rgba(60, 64, 67, 0.15);\n",
              "      fill: #174EA6;\n",
              "    }\n",
              "\n",
              "    .colab-df-buttons div {\n",
              "      margin-bottom: 4px;\n",
              "    }\n",
              "\n",
              "    [theme=dark] .colab-df-convert {\n",
              "      background-color: #3B4455;\n",
              "      fill: #D2E3FC;\n",
              "    }\n",
              "\n",
              "    [theme=dark] .colab-df-convert:hover {\n",
              "      background-color: #434B5C;\n",
              "      box-shadow: 0px 1px 3px 1px rgba(0, 0, 0, 0.15);\n",
              "      filter: drop-shadow(0px 1px 2px rgba(0, 0, 0, 0.3));\n",
              "      fill: #FFFFFF;\n",
              "    }\n",
              "  </style>\n",
              "\n",
              "    <script>\n",
              "      const buttonEl =\n",
              "        document.querySelector('#df-2379962f-0e62-4adc-9822-4c9aeb5f4d3a button.colab-df-convert');\n",
              "      buttonEl.style.display =\n",
              "        google.colab.kernel.accessAllowed ? 'block' : 'none';\n",
              "\n",
              "      async function convertToInteractive(key) {\n",
              "        const element = document.querySelector('#df-2379962f-0e62-4adc-9822-4c9aeb5f4d3a');\n",
              "        const dataTable =\n",
              "          await google.colab.kernel.invokeFunction('convertToInteractive',\n",
              "                                                    [key], {});\n",
              "        if (!dataTable) return;\n",
              "\n",
              "        const docLinkHtml = 'Like what you see? Visit the ' +\n",
              "          '<a target=\"_blank\" href=https://colab.research.google.com/notebooks/data_table.ipynb>data table notebook</a>'\n",
              "          + ' to learn more about interactive tables.';\n",
              "        element.innerHTML = '';\n",
              "        dataTable['output_type'] = 'display_data';\n",
              "        await google.colab.output.renderOutput(dataTable, element);\n",
              "        const docLink = document.createElement('div');\n",
              "        docLink.innerHTML = docLinkHtml;\n",
              "        element.appendChild(docLink);\n",
              "      }\n",
              "    </script>\n",
              "  </div>\n",
              "\n",
              "\n",
              "<div id=\"df-c0f7ae22-de5b-4a84-a8ef-d8ccb5d1728b\">\n",
              "  <button class=\"colab-df-quickchart\" onclick=\"quickchart('df-c0f7ae22-de5b-4a84-a8ef-d8ccb5d1728b')\"\n",
              "            title=\"Suggest charts\"\n",
              "            style=\"display:none;\">\n",
              "\n",
              "<svg xmlns=\"http://www.w3.org/2000/svg\" height=\"24px\"viewBox=\"0 0 24 24\"\n",
              "     width=\"24px\">\n",
              "    <g>\n",
              "        <path d=\"M19 3H5c-1.1 0-2 .9-2 2v14c0 1.1.9 2 2 2h14c1.1 0 2-.9 2-2V5c0-1.1-.9-2-2-2zM9 17H7v-7h2v7zm4 0h-2V7h2v10zm4 0h-2v-4h2v4z\"/>\n",
              "    </g>\n",
              "</svg>\n",
              "  </button>\n",
              "\n",
              "<style>\n",
              "  .colab-df-quickchart {\n",
              "      --bg-color: #E8F0FE;\n",
              "      --fill-color: #1967D2;\n",
              "      --hover-bg-color: #E2EBFA;\n",
              "      --hover-fill-color: #174EA6;\n",
              "      --disabled-fill-color: #AAA;\n",
              "      --disabled-bg-color: #DDD;\n",
              "  }\n",
              "\n",
              "  [theme=dark] .colab-df-quickchart {\n",
              "      --bg-color: #3B4455;\n",
              "      --fill-color: #D2E3FC;\n",
              "      --hover-bg-color: #434B5C;\n",
              "      --hover-fill-color: #FFFFFF;\n",
              "      --disabled-bg-color: #3B4455;\n",
              "      --disabled-fill-color: #666;\n",
              "  }\n",
              "\n",
              "  .colab-df-quickchart {\n",
              "    background-color: var(--bg-color);\n",
              "    border: none;\n",
              "    border-radius: 50%;\n",
              "    cursor: pointer;\n",
              "    display: none;\n",
              "    fill: var(--fill-color);\n",
              "    height: 32px;\n",
              "    padding: 0;\n",
              "    width: 32px;\n",
              "  }\n",
              "\n",
              "  .colab-df-quickchart:hover {\n",
              "    background-color: var(--hover-bg-color);\n",
              "    box-shadow: 0 1px 2px rgba(60, 64, 67, 0.3), 0 1px 3px 1px rgba(60, 64, 67, 0.15);\n",
              "    fill: var(--button-hover-fill-color);\n",
              "  }\n",
              "\n",
              "  .colab-df-quickchart-complete:disabled,\n",
              "  .colab-df-quickchart-complete:disabled:hover {\n",
              "    background-color: var(--disabled-bg-color);\n",
              "    fill: var(--disabled-fill-color);\n",
              "    box-shadow: none;\n",
              "  }\n",
              "\n",
              "  .colab-df-spinner {\n",
              "    border: 2px solid var(--fill-color);\n",
              "    border-color: transparent;\n",
              "    border-bottom-color: var(--fill-color);\n",
              "    animation:\n",
              "      spin 1s steps(1) infinite;\n",
              "  }\n",
              "\n",
              "  @keyframes spin {\n",
              "    0% {\n",
              "      border-color: transparent;\n",
              "      border-bottom-color: var(--fill-color);\n",
              "      border-left-color: var(--fill-color);\n",
              "    }\n",
              "    20% {\n",
              "      border-color: transparent;\n",
              "      border-left-color: var(--fill-color);\n",
              "      border-top-color: var(--fill-color);\n",
              "    }\n",
              "    30% {\n",
              "      border-color: transparent;\n",
              "      border-left-color: var(--fill-color);\n",
              "      border-top-color: var(--fill-color);\n",
              "      border-right-color: var(--fill-color);\n",
              "    }\n",
              "    40% {\n",
              "      border-color: transparent;\n",
              "      border-right-color: var(--fill-color);\n",
              "      border-top-color: var(--fill-color);\n",
              "    }\n",
              "    60% {\n",
              "      border-color: transparent;\n",
              "      border-right-color: var(--fill-color);\n",
              "    }\n",
              "    80% {\n",
              "      border-color: transparent;\n",
              "      border-right-color: var(--fill-color);\n",
              "      border-bottom-color: var(--fill-color);\n",
              "    }\n",
              "    90% {\n",
              "      border-color: transparent;\n",
              "      border-bottom-color: var(--fill-color);\n",
              "    }\n",
              "  }\n",
              "</style>\n",
              "\n",
              "  <script>\n",
              "    async function quickchart(key) {\n",
              "      const quickchartButtonEl =\n",
              "        document.querySelector('#' + key + ' button');\n",
              "      quickchartButtonEl.disabled = true;  // To prevent multiple clicks.\n",
              "      quickchartButtonEl.classList.add('colab-df-spinner');\n",
              "      try {\n",
              "        const charts = await google.colab.kernel.invokeFunction(\n",
              "            'suggestCharts', [key], {});\n",
              "      } catch (error) {\n",
              "        console.error('Error during call to suggestCharts:', error);\n",
              "      }\n",
              "      quickchartButtonEl.classList.remove('colab-df-spinner');\n",
              "      quickchartButtonEl.classList.add('colab-df-quickchart-complete');\n",
              "    }\n",
              "    (() => {\n",
              "      let quickchartButtonEl =\n",
              "        document.querySelector('#df-c0f7ae22-de5b-4a84-a8ef-d8ccb5d1728b button');\n",
              "      quickchartButtonEl.style.display =\n",
              "        google.colab.kernel.accessAllowed ? 'block' : 'none';\n",
              "    })();\n",
              "  </script>\n",
              "</div>\n",
              "\n",
              "    </div>\n",
              "  </div>\n"
            ],
            "application/vnd.google.colaboratory.intrinsic+json": {
              "type": "dataframe",
              "variable_name": "reviews",
              "summary": "{\n  \"name\": \"reviews\",\n  \"rows\": 99224,\n  \"fields\": [\n    {\n      \"column\": \"review_id\",\n      \"properties\": {\n        \"dtype\": \"string\",\n        \"num_unique_values\": 98410,\n        \"samples\": [\n          \"ce4db7bc68bf7fa8d618d214203b15a3\",\n          \"7c93bc469d3617c77df6aed62ee09477\",\n          \"f39646c4059692442fe5734784cd9d50\"\n        ],\n        \"semantic_type\": \"\",\n        \"description\": \"\"\n      }\n    },\n    {\n      \"column\": \"order_id\",\n      \"properties\": {\n        \"dtype\": \"string\",\n        \"num_unique_values\": 98673,\n        \"samples\": [\n          \"bbfb6afc6b09bb994e0093a008ec7675\",\n          \"182e6edb8cb190cada2690d7c7d78e76\",\n          \"99a3c8e51539b3ccb221a27cc29367f2\"\n        ],\n        \"semantic_type\": \"\",\n        \"description\": \"\"\n      }\n    },\n    {\n      \"column\": \"review_score\",\n      \"properties\": {\n        \"dtype\": \"number\",\n        \"std\": 1,\n        \"min\": 1,\n        \"max\": 5,\n        \"num_unique_values\": 5,\n        \"samples\": [\n          5,\n          2,\n          1\n        ],\n        \"semantic_type\": \"\",\n        \"description\": \"\"\n      }\n    },\n    {\n      \"column\": \"review_comment_title\",\n      \"properties\": {\n        \"dtype\": \"category\",\n        \"num_unique_values\": 4527,\n        \"samples\": [\n          \"O PRODUTO N\\u00c3O CHEGOU .\",\n          \"N\\u00e3o recebi retorno\",\n          \"Pedido com 10 toalhas \"\n        ],\n        \"semantic_type\": \"\",\n        \"description\": \"\"\n      }\n    },\n    {\n      \"column\": \"review_comment_message\",\n      \"properties\": {\n        \"dtype\": \"category\",\n        \"num_unique_values\": 36159,\n        \"samples\": [\n          \"Paguei dois produtos com 60 e s\\u00f3 veio um na nota fiscal consta duas unidades por\\u00e9m quando eu abri a caixa s\\u00f3 tinha uma unidade desde j\\u00e1 pe\\u00e7o v\\u00eania \",\n          \"Foi ate entregue antes do prazo... Parab\\u00e9ns.\",\n          \"prateleira de tamanho ideal ao que eu esperava,\"\n        ],\n        \"semantic_type\": \"\",\n        \"description\": \"\"\n      }\n    },\n    {\n      \"column\": \"review_creation_date\",\n      \"properties\": {\n        \"dtype\": \"object\",\n        \"num_unique_values\": 636,\n        \"samples\": [\n          \"2017-05-03 00:00:00\",\n          \"2017-03-13 00:00:00\",\n          \"2017-08-03 00:00:00\"\n        ],\n        \"semantic_type\": \"\",\n        \"description\": \"\"\n      }\n    },\n    {\n      \"column\": \"review_answer_timestamp\",\n      \"properties\": {\n        \"dtype\": \"object\",\n        \"num_unique_values\": 98248,\n        \"samples\": [\n          \"2018-08-23 13:09:13\",\n          \"2017-11-01 21:19:58\",\n          \"2017-07-20 11:07:29\"\n        ],\n        \"semantic_type\": \"\",\n        \"description\": \"\"\n      }\n    }\n  ]\n}"
            }
          },
          "metadata": {},
          "execution_count": 5
        }
      ]
    },
    {
      "cell_type": "markdown",
      "source": [
        "# Análise exploratória dos dados"
      ],
      "metadata": {
        "id": "KqB5G-hoGngR"
      }
    },
    {
      "cell_type": "code",
      "source": [
        "reviews.shape"
      ],
      "metadata": {
        "colab": {
          "base_uri": "https://localhost:8080/"
        },
        "id": "7Uzr1Og7JEV1",
        "outputId": "1f728bec-36af-4826-9c66-c5cf4111b205"
      },
      "execution_count": null,
      "outputs": [
        {
          "output_type": "execute_result",
          "data": {
            "text/plain": [
              "(99224, 7)"
            ]
          },
          "metadata": {},
          "execution_count": 6
        }
      ]
    },
    {
      "cell_type": "code",
      "source": [
        "reviews[['review_score', 'review_comment_title', 'review_comment_message']].info()"
      ],
      "metadata": {
        "colab": {
          "base_uri": "https://localhost:8080/"
        },
        "id": "rn68tKw2JHi9",
        "outputId": "b119fd6d-2b75-4473-df1a-a61212fb1b10"
      },
      "execution_count": null,
      "outputs": [
        {
          "output_type": "stream",
          "name": "stdout",
          "text": [
            "<class 'pandas.core.frame.DataFrame'>\n",
            "RangeIndex: 99224 entries, 0 to 99223\n",
            "Data columns (total 3 columns):\n",
            " #   Column                  Non-Null Count  Dtype \n",
            "---  ------                  --------------  ----- \n",
            " 0   review_score            99224 non-null  int64 \n",
            " 1   review_comment_title    11568 non-null  object\n",
            " 2   review_comment_message  40977 non-null  object\n",
            "dtypes: int64(1), object(2)\n",
            "memory usage: 2.3+ MB\n"
          ]
        }
      ]
    },
    {
      "cell_type": "markdown",
      "source": [
        "O dataframe referente a comentários dos pedidos possui um total de 99224 linhas e 7 colunas. Além disso, os atributos que apresentam relevância para o presente estudo são **review_score**, **review_comment_title**\te **review_comment_message**. Desses atributos, o **review_score** não apresenta nenhum valor nulo, com 99224 registros, enquanto **review_comment_message** possui 40977 registros (58247 nulos) e **review_comment_title** figura com o menor número de registros (1156 válidos e 87656 nulos)."
      ],
      "metadata": {
        "id": "X48R1lp1HOta"
      }
    },
    {
      "cell_type": "code",
      "source": [
        "# Quantidade de valores nulos para os atributos de interesse\n",
        "\n",
        "reviews[['review_score', 'review_comment_title', 'review_comment_message']].isnull().sum()"
      ],
      "metadata": {
        "colab": {
          "base_uri": "https://localhost:8080/",
          "height": 178
        },
        "id": "KsEWQulIHHLi",
        "outputId": "8523b217-bdcd-4a9e-9730-88cf8adccf6d"
      },
      "execution_count": null,
      "outputs": [
        {
          "output_type": "execute_result",
          "data": {
            "text/plain": [
              "review_score                  0\n",
              "review_comment_title      87656\n",
              "review_comment_message    58247\n",
              "dtype: int64"
            ],
            "text/html": [
              "<div>\n",
              "<style scoped>\n",
              "    .dataframe tbody tr th:only-of-type {\n",
              "        vertical-align: middle;\n",
              "    }\n",
              "\n",
              "    .dataframe tbody tr th {\n",
              "        vertical-align: top;\n",
              "    }\n",
              "\n",
              "    .dataframe thead th {\n",
              "        text-align: right;\n",
              "    }\n",
              "</style>\n",
              "<table border=\"1\" class=\"dataframe\">\n",
              "  <thead>\n",
              "    <tr style=\"text-align: right;\">\n",
              "      <th></th>\n",
              "      <th>0</th>\n",
              "    </tr>\n",
              "  </thead>\n",
              "  <tbody>\n",
              "    <tr>\n",
              "      <th>review_score</th>\n",
              "      <td>0</td>\n",
              "    </tr>\n",
              "    <tr>\n",
              "      <th>review_comment_title</th>\n",
              "      <td>87656</td>\n",
              "    </tr>\n",
              "    <tr>\n",
              "      <th>review_comment_message</th>\n",
              "      <td>58247</td>\n",
              "    </tr>\n",
              "  </tbody>\n",
              "</table>\n",
              "</div><br><label><b>dtype:</b> int64</label>"
            ]
          },
          "metadata": {},
          "execution_count": 8
        }
      ]
    },
    {
      "cell_type": "markdown",
      "source": [
        "Assim sendo, o atributo **review_comment_message** possui uma cobertura maior e com mais informações detalhadas que **review_comment_title**, sendo uma boa fonte de dados para a análise proposta. Contudo, entendemos que o atributo **review_comment_title**, mesmo que contenha menos dados,  oferece informações importantes de forma mais concisa e representativa do sentimento expresso pelo cliente. Nesse sentido, o título tende a refletir o sentimento mais proeminente e imediato (positivo, negativo ou neutro), como podemos observar abaixo:"
      ],
      "metadata": {
        "id": "-Bije0tmQQJ0"
      }
    },
    {
      "cell_type": "code",
      "source": [
        "reviews['review_comment_title'].dropna().head(10)"
      ],
      "metadata": {
        "colab": {
          "base_uri": "https://localhost:8080/",
          "height": 398
        },
        "id": "Qc5sHawRSLV6",
        "outputId": "20a13a50-9803-4d08-a2ca-a7812740ca9a"
      },
      "execution_count": null,
      "outputs": [
        {
          "output_type": "execute_result",
          "data": {
            "text/plain": [
              "9                   recomendo\n",
              "15            Super recomendo\n",
              "19    Não chegou meu produto \n",
              "22                      Ótimo\n",
              "34                 Muito bom.\n",
              "36                        Bom\n",
              "38               Maravilhoso!\n",
              "43           Entrega perfeita\n",
              "53                      Ótimo\n",
              "59                   MT lindo\n",
              "Name: review_comment_title, dtype: object"
            ],
            "text/html": [
              "<div>\n",
              "<style scoped>\n",
              "    .dataframe tbody tr th:only-of-type {\n",
              "        vertical-align: middle;\n",
              "    }\n",
              "\n",
              "    .dataframe tbody tr th {\n",
              "        vertical-align: top;\n",
              "    }\n",
              "\n",
              "    .dataframe thead th {\n",
              "        text-align: right;\n",
              "    }\n",
              "</style>\n",
              "<table border=\"1\" class=\"dataframe\">\n",
              "  <thead>\n",
              "    <tr style=\"text-align: right;\">\n",
              "      <th></th>\n",
              "      <th>review_comment_title</th>\n",
              "    </tr>\n",
              "  </thead>\n",
              "  <tbody>\n",
              "    <tr>\n",
              "      <th>9</th>\n",
              "      <td>recomendo</td>\n",
              "    </tr>\n",
              "    <tr>\n",
              "      <th>15</th>\n",
              "      <td>Super recomendo</td>\n",
              "    </tr>\n",
              "    <tr>\n",
              "      <th>19</th>\n",
              "      <td>Não chegou meu produto</td>\n",
              "    </tr>\n",
              "    <tr>\n",
              "      <th>22</th>\n",
              "      <td>Ótimo</td>\n",
              "    </tr>\n",
              "    <tr>\n",
              "      <th>34</th>\n",
              "      <td>Muito bom.</td>\n",
              "    </tr>\n",
              "    <tr>\n",
              "      <th>36</th>\n",
              "      <td>Bom</td>\n",
              "    </tr>\n",
              "    <tr>\n",
              "      <th>38</th>\n",
              "      <td>Maravilhoso!</td>\n",
              "    </tr>\n",
              "    <tr>\n",
              "      <th>43</th>\n",
              "      <td>Entrega perfeita</td>\n",
              "    </tr>\n",
              "    <tr>\n",
              "      <th>53</th>\n",
              "      <td>Ótimo</td>\n",
              "    </tr>\n",
              "    <tr>\n",
              "      <th>59</th>\n",
              "      <td>MT lindo</td>\n",
              "    </tr>\n",
              "  </tbody>\n",
              "</table>\n",
              "</div><br><label><b>dtype:</b> object</label>"
            ]
          },
          "metadata": {},
          "execution_count": 9
        }
      ]
    },
    {
      "cell_type": "markdown",
      "source": [
        "Por isso, optou-se pela combinação do título, quando disponível, com o conteúdo do comentário, de forma a enriquecer a análise, na forma do novo atributo nomeado **combined_text**."
      ],
      "metadata": {
        "id": "BV6qcVl-S1dG"
      }
    },
    {
      "cell_type": "code",
      "source": [
        "reviews['combined_text'] = reviews['review_comment_title'].fillna('') + ' ' + reviews['review_comment_message']\n"
      ],
      "metadata": {
        "id": "yRTpmqg-OTr5"
      },
      "execution_count": null,
      "outputs": []
    },
    {
      "cell_type": "code",
      "source": [
        "reviews['combined_text'].info()"
      ],
      "metadata": {
        "colab": {
          "base_uri": "https://localhost:8080/"
        },
        "id": "Sgbp0LFfltGV",
        "outputId": "7bf1dd67-b5e3-4d8a-8c13-46d00e423cf8"
      },
      "execution_count": null,
      "outputs": [
        {
          "output_type": "stream",
          "name": "stdout",
          "text": [
            "<class 'pandas.core.series.Series'>\n",
            "RangeIndex: 99224 entries, 0 to 99223\n",
            "Series name: combined_text\n",
            "Non-Null Count  Dtype \n",
            "--------------  ----- \n",
            "40977 non-null  object\n",
            "dtypes: object(1)\n",
            "memory usage: 775.3+ KB\n"
          ]
        }
      ]
    },
    {
      "cell_type": "code",
      "source": [
        "# removendo os valores ausentes no texto combinado\n",
        "\n",
        "reviews.dropna(subset=['combined_text'], inplace=True)"
      ],
      "metadata": {
        "id": "1lO-789TmgFj"
      },
      "execution_count": null,
      "outputs": []
    },
    {
      "cell_type": "markdown",
      "source": [
        "Outro aspecto relevante diz respeito à distribuição das notas presentes no atributo **review_score**. A tabela e gráfico abaixo mostram como essas avalições estão distribuídas (após remoção de valores ausentes)."
      ],
      "metadata": {
        "id": "pz3NDvbGTZmO"
      }
    },
    {
      "cell_type": "code",
      "source": [
        "reviews['review_score'].value_counts().sort_index()"
      ],
      "metadata": {
        "colab": {
          "base_uri": "https://localhost:8080/",
          "height": 272
        },
        "id": "C4CKOpGmTY_U",
        "outputId": "01f208b0-2272-44cc-9e0e-623f5b29f444"
      },
      "execution_count": null,
      "outputs": [
        {
          "output_type": "execute_result",
          "data": {
            "text/plain": [
              "review_score\n",
              "1     8745\n",
              "2     2145\n",
              "3     3557\n",
              "4     5976\n",
              "5    20554\n",
              "Name: count, dtype: int64"
            ],
            "text/html": [
              "<div>\n",
              "<style scoped>\n",
              "    .dataframe tbody tr th:only-of-type {\n",
              "        vertical-align: middle;\n",
              "    }\n",
              "\n",
              "    .dataframe tbody tr th {\n",
              "        vertical-align: top;\n",
              "    }\n",
              "\n",
              "    .dataframe thead th {\n",
              "        text-align: right;\n",
              "    }\n",
              "</style>\n",
              "<table border=\"1\" class=\"dataframe\">\n",
              "  <thead>\n",
              "    <tr style=\"text-align: right;\">\n",
              "      <th></th>\n",
              "      <th>count</th>\n",
              "    </tr>\n",
              "    <tr>\n",
              "      <th>review_score</th>\n",
              "      <th></th>\n",
              "    </tr>\n",
              "  </thead>\n",
              "  <tbody>\n",
              "    <tr>\n",
              "      <th>1</th>\n",
              "      <td>8745</td>\n",
              "    </tr>\n",
              "    <tr>\n",
              "      <th>2</th>\n",
              "      <td>2145</td>\n",
              "    </tr>\n",
              "    <tr>\n",
              "      <th>3</th>\n",
              "      <td>3557</td>\n",
              "    </tr>\n",
              "    <tr>\n",
              "      <th>4</th>\n",
              "      <td>5976</td>\n",
              "    </tr>\n",
              "    <tr>\n",
              "      <th>5</th>\n",
              "      <td>20554</td>\n",
              "    </tr>\n",
              "  </tbody>\n",
              "</table>\n",
              "</div><br><label><b>dtype:</b> int64</label>"
            ]
          },
          "metadata": {},
          "execution_count": 13
        }
      ]
    },
    {
      "cell_type": "code",
      "source": [
        "plt.bar(reviews['review_score'].value_counts().sort_index().index, reviews['review_score'].value_counts().sort_index().values)\n",
        "plt.title('Distribuição do atributo review_score')\n",
        "plt.xlabel('Nota')\n",
        "plt.ylabel('Quantidade de Avaliações')\n",
        "plt.show()"
      ],
      "metadata": {
        "colab": {
          "base_uri": "https://localhost:8080/",
          "height": 477
        },
        "id": "1MvRk_f3UcPT",
        "outputId": "2fa2c235-5c8f-4e16-fcbf-447797cf7673"
      },
      "execution_count": null,
      "outputs": [
        {
          "output_type": "display_data",
          "data": {
            "text/plain": [
              "<Figure size 640x480 with 1 Axes>"
            ],
            "image/png": "[encoded data removed]"
          },
          "metadata": {}
        }
      ]
    },
    {
      "cell_type": "markdown",
      "source": [
        "Como observado, as avaliações são representadas por números inteiros que variam de 1 a 5, para representar o grau de satisfação do cliente variando de muito insatisfeito até muito satisfeito respectivamente. Para facilitar análise, optou-se pela eliminação das avaliações de nota 3 (consideradas neutras) e dicotomização das restantes entre positivas (notas 4 e 5) e negativas (notas 1 e 2)."
      ],
      "metadata": {
        "id": "GyzsmPuObJ97"
      }
    },
    {
      "cell_type": "code",
      "source": [
        "# Eliminando os registros com notas iguais a 3\n",
        "reviews = reviews[reviews['review_score'] != 3]\n",
        "\n",
        "# Renomeando as avaliações para categorias dicotômicas de sentimento (negativo e positivo)\n",
        "def agrupar_scores(score):\n",
        "    if score in [4, 5]:\n",
        "        return 'positivo'\n",
        "    elif score in [1, 2]:\n",
        "        return 'negativo'\n",
        "\n",
        "# Usando .loc para evitar SettingWithCopyWarning\n",
        "reviews.loc[:, 'sentimento'] = reviews['review_score'].apply(agrupar_scores)"
      ],
      "metadata": {
        "id": "fH-eiEdHY-on"
      },
      "execution_count": null,
      "outputs": []
    },
    {
      "cell_type": "code",
      "source": [
        "plt.bar(reviews['sentimento'].value_counts().sort_index().index, reviews['sentimento'].value_counts().sort_index().values,\n",
        "        color=['coral', 'turquoise'])\n",
        "plt.title('Distribuição do atributo sentimento')\n",
        "plt.xlabel('sentimento')\n",
        "plt.ylabel('Quantidade de Avaliações')\n",
        "plt.show()"
      ],
      "metadata": {
        "colab": {
          "base_uri": "https://localhost:8080/",
          "height": 477
        },
        "id": "En8-p4c9aAJd",
        "outputId": "5c5edb25-1248-4e66-de74-81749908d769"
      },
      "execution_count": null,
      "outputs": [
        {
          "output_type": "display_data",
          "data": {
            "text/plain": [
              "<Figure size 640x480 with 1 Axes>"
            ],
            "image/png": "[encoded data removed]"
          },
          "metadata": {}
        }
      ]
    },
    {
      "cell_type": "markdown",
      "source": [
        "Após a dicotomização, pode-se notar que há um desequilíbrio entre as avalições positivas (mais frequentes) e avaliações negativas (menos frequentes), o que pode levar ao enviesamento da análise. Inicialmente executaremos a análise considerando todos os scores positivos e negativos, mas endereçaremos este problema no futuro no refinamento do modelo."
      ],
      "metadata": {
        "id": "1llBCiuBg6HZ"
      }
    },
    {
      "cell_type": "markdown",
      "source": [
        "# Balanceando as classes"
      ],
      "metadata": {
        "id": "dAbSx20Yt1cb"
      }
    },
    {
      "cell_type": "markdown",
      "source": [
        "Como há um desequilíbrio entre as classes da variável objetivo, utilizaremos o método resample para fazer uma subamostragem das avaliações positivas."
      ],
      "metadata": {
        "id": "L2Y4l1exwnjc"
      }
    },
    {
      "cell_type": "code",
      "source": [
        "# geração do dataframe filtrado somente com as classes de interesse\n",
        "reviews_tratado = reviews[['combined_text', 'sentimento']]"
      ],
      "metadata": {
        "id": "u-rjb4KmoCeY"
      },
      "execution_count": null,
      "outputs": []
    },
    {
      "cell_type": "code",
      "source": [
        "from sklearn.utils import resample"
      ],
      "metadata": {
        "id": "Sf_Jm4tBt5hi"
      },
      "execution_count": null,
      "outputs": []
    },
    {
      "cell_type": "code",
      "source": [
        "# Separando as classes em majoritária e minoritária\n",
        "reviews_majority = reviews_tratado[reviews_tratado.sentimento == 'positivo']\n",
        "reviews_minority = reviews_tratado[reviews_tratado.sentimento == 'negativo']\n",
        "\n",
        "# Subamostragem da classe majoritária\n",
        "reviews_majority_downsampled = resample(reviews_majority,\n",
        "                                     replace=False,  # sample sem reposição\n",
        "                                     n_samples=len(reviews_minority),  # match número de amostras da minoria\n",
        "                                     random_state=42)  # reprodutibilidade\n",
        "\n",
        "# Combinando a classe minoritária com a subamostragem da classe majoritária\n",
        "reviews_tratado = pd.concat([reviews_majority_downsampled, reviews_minority])\n",
        "\n",
        "# Verificando a distribuição das classes após o undersampling\n",
        "print(reviews_tratado.sentimento.value_counts())"
      ],
      "metadata": {
        "colab": {
          "base_uri": "https://localhost:8080/"
        },
        "id": "klfRQOz7renE",
        "outputId": "9be10554-a4ee-42be-d6b1-ee9c3d1f78c8"
      },
      "execution_count": null,
      "outputs": [
        {
          "output_type": "stream",
          "name": "stdout",
          "text": [
            "sentimento\n",
            "positivo    10890\n",
            "negativo    10890\n",
            "Name: count, dtype: int64\n"
          ]
        }
      ]
    },
    {
      "cell_type": "code",
      "source": [
        "plt.bar(reviews_tratado['sentimento'].value_counts().sort_index().index, reviews_tratado['sentimento'].value_counts().sort_index().values,\n",
        "        color=['coral', 'turquoise'])\n",
        "plt.title('Distribuição do atributo sentimento')\n",
        "plt.xlabel('sentimento')\n",
        "plt.ylabel('Quantidade de Avaliações')\n",
        "plt.show()"
      ],
      "metadata": {
        "colab": {
          "base_uri": "https://localhost:8080/",
          "height": 477
        },
        "id": "5H2V_mk2v812",
        "outputId": "ea73c4d0-c88e-4d49-c2a5-a86d73221d64"
      },
      "execution_count": null,
      "outputs": [
        {
          "output_type": "display_data",
          "data": {
            "text/plain": [
              "<Figure size 640x480 with 1 Axes>"
            ],
            "image/png": "[encoded data removed]"
          },
          "metadata": {}
        }
      ]
    },
    {
      "cell_type": "code",
      "source": [
        "reviews_tratado.info()"
      ],
      "metadata": {
        "colab": {
          "base_uri": "https://localhost:8080/"
        },
        "id": "tQFQHeAsqwZB",
        "outputId": "0500cbb4-d2e5-40d8-e235-b4904915b6d5"
      },
      "execution_count": null,
      "outputs": [
        {
          "output_type": "stream",
          "name": "stdout",
          "text": [
            "<class 'pandas.core.frame.DataFrame'>\n",
            "Index: 21780 entries, 22140 to 99223\n",
            "Data columns (total 2 columns):\n",
            " #   Column         Non-Null Count  Dtype \n",
            "---  ------         --------------  ----- \n",
            " 0   combined_text  21780 non-null  object\n",
            " 1   sentimento     21780 non-null  object\n",
            "dtypes: object(2)\n",
            "memory usage: 510.5+ KB\n"
          ]
        }
      ]
    },
    {
      "cell_type": "markdown",
      "source": [
        "# Pré-processamento dos Dados"
      ],
      "metadata": {
        "id": "W1jrfw-ZGH8N"
      }
    },
    {
      "cell_type": "code",
      "source": [
        "import unidecode\n",
        "import emoji\n",
        "import re\n",
        "import nltk\n",
        "nltk.download('punkt')\n",
        "\n",
        "from nltk.corpus import stopwords\n",
        "nltk.download('stopwords')\n",
        "\n",
        "from nltk.stem import WordNetLemmatizer\n",
        "nltk.download('wordnet')\n",
        "nltk.download('omw-1.4')\n",
        "nltk.download('averaged_perceptron_tagger')\n",
        "\n",
        "from sklearn.feature_extraction.text import TfidfVectorizer"
      ],
      "metadata": {
        "colab": {
          "base_uri": "https://localhost:8080/"
        },
        "id": "ZDEmkrAgxdhx",
        "outputId": "11e50039-3af3-40d0-d777-8814425246b1"
      },
      "execution_count": null,
      "outputs": [
        {
          "output_type": "stream",
          "name": "stderr",
          "text": [
            "[nltk_data] Downloading package punkt to /root/nltk_data...\n",
            "[nltk_data]   Unzipping tokenizers/punkt.zip.\n",
            "[nltk_data] Downloading package stopwords to /root/nltk_data...\n",
            "[nltk_data]   Unzipping corpora/stopwords.zip.\n",
            "[nltk_data] Downloading package wordnet to /root/nltk_data...\n",
            "[nltk_data] Downloading package omw-1.4 to /root/nltk_data...\n",
            "[nltk_data] Downloading package averaged_perceptron_tagger to\n",
            "[nltk_data]     /root/nltk_data...\n",
            "[nltk_data]   Unzipping taggers/averaged_perceptron_tagger.zip.\n"
          ]
        }
      ]
    },
    {
      "cell_type": "markdown",
      "source": [
        "Inicialmente realizaremos a limpeza do texto combinado por meio da eliminação da capitalização das letras, remoção dos emojis que pode haver nos comentários, assim como acentuação, URLs e possíveis espaços extras. Em seguida, serão executadas as etapas de tokenização, remoção de stopwords, lematização, POS-tagging e eepresentação vetorial por meio de modelo de Term Frequency — Inverse Document Frequency (TF-IDF)."
      ],
      "metadata": {
        "id": "d6g7aMhmiZSh"
      }
    },
    {
      "cell_type": "code",
      "source": [
        "# Limpeza do atributo combined_text\n",
        "\n",
        "def remover_emoji(texto):\n",
        "    return emoji.replace_emoji(texto, replace='')\n",
        "\n",
        "def limpar_texto(texto):\n",
        "    texto = texto.lower()\n",
        "    texto = remover_emoji(texto)\n",
        "    texto = unidecode.unidecode(texto)\n",
        "    texto = re.sub(r'http\\S+', '', texto)\n",
        "    texto = re.sub(r'\\n', '', texto)\n",
        "    texto = re.sub(r'\\s+', ' ', texto).strip()\n",
        "    return texto\n",
        "\n",
        "reviews_tratado['combined_text'] = reviews_tratado['combined_text'].apply(limpar_texto)"
      ],
      "metadata": {
        "id": "GQ85R3T9iNLz"
      },
      "execution_count": null,
      "outputs": []
    },
    {
      "cell_type": "code",
      "source": [
        "# etapa de tokenização\n",
        "\n",
        "def tokenizar_texto(texto):\n",
        "    return nltk.word_tokenize(texto)\n",
        "\n",
        "reviews_tratado['tokens'] = reviews_tratado['combined_text'].apply(tokenizar_texto)\n"
      ],
      "metadata": {
        "id": "lenXFCACGjDx"
      },
      "execution_count": null,
      "outputs": []
    },
    {
      "cell_type": "code",
      "source": [
        "# Remoção de Stopwords\n",
        "# Definição de stopwords em português\n",
        "stop_words = set(stopwords.words('portuguese'))\n",
        "\n",
        "def remover_stopwords(tokens):\n",
        "    return [word for word in tokens if word not in stop_words]\n",
        "\n",
        "reviews_tratado['tokens_sem_stopwords'] = reviews_tratado['tokens'].apply(remover_stopwords)\n"
      ],
      "metadata": {
        "id": "ou619uI4iP-U"
      },
      "execution_count": null,
      "outputs": []
    },
    {
      "cell_type": "code",
      "source": [
        "# Etapa de lematização\n",
        "lemmatizer = WordNetLemmatizer()\n",
        "\n",
        "def lematizar_tokens(tokens):\n",
        "    return [lemmatizer.lemmatize(token) for token in tokens]\n",
        "\n",
        "reviews_tratado['tokens_lemmatizados'] = reviews_tratado['tokens_sem_stopwords'].apply(lematizar_tokens)"
      ],
      "metadata": {
        "id": "j8imhMWSiUA0"
      },
      "execution_count": null,
      "outputs": []
    },
    {
      "cell_type": "code",
      "source": [
        "# POS-tagging\n",
        "\n",
        "def pos_tagging(tokens):\n",
        "    return nltk.pos_tag(tokens)\n",
        "\n",
        "reviews_tratado['pos_tags'] = reviews_tratado['tokens_lemmatizados'].apply(pos_tagging)"
      ],
      "metadata": {
        "id": "UygMiteGiYNP"
      },
      "execution_count": null,
      "outputs": []
    },
    {
      "cell_type": "code",
      "source": [
        "# Representação vetorial TF-IDF\n",
        "# Convertendo a lista de tuplas para strings já que o TF-IDF só aceita strings\n",
        "reviews_tratado['pos_tags_str'] = reviews_tratado['pos_tags'].apply(lambda tags: ' '.join([word for word, tag in tags]))\n",
        "\n",
        "tfidf_vectorizer = TfidfVectorizer()\n",
        "\n",
        "# Ajuste e transformação os dados\n",
        "X_tfidf = tfidf_vectorizer.fit_transform(reviews_tratado['pos_tags_str'])"
      ],
      "metadata": {
        "id": "Ht4pkjdb418L"
      },
      "execution_count": null,
      "outputs": []
    },
    {
      "cell_type": "markdown",
      "source": [
        "# Preparação para o modelo"
      ],
      "metadata": {
        "id": "pdG11b0e5fTB"
      }
    },
    {
      "cell_type": "code",
      "source": [
        "from sklearn.model_selection import train_test_split"
      ],
      "metadata": {
        "id": "dJMUyPPyjpk1"
      },
      "execution_count": null,
      "outputs": []
    },
    {
      "cell_type": "code",
      "source": [
        "# Separação do dataset em features (X) e rótulos (y)\n",
        "X = X_tfidf\n",
        "y = reviews_tratado['sentimento']\n",
        "\n",
        "# Separar em treino e teste\n",
        "X_train, X_test, y_train, y_test = train_test_split(X, y, test_size=0.3, random_state=42)\n",
        "\n",
        "\n",
        "print(X_train.shape, X_test.shape)\n"
      ],
      "metadata": {
        "colab": {
          "base_uri": "https://localhost:8080/"
        },
        "id": "IPXu7qTe5fAG",
        "outputId": "0c29bbdd-224e-4c0a-979b-bb6cb2402ae0"
      },
      "execution_count": null,
      "outputs": [
        {
          "output_type": "stream",
          "name": "stdout",
          "text": [
            "(15246, 11798) (6534, 11798)\n"
          ]
        }
      ]
    },
    {
      "cell_type": "markdown",
      "source": [
        "# Treinamento do modelo"
      ],
      "metadata": {
        "id": "G0GLsKzv5i4d"
      }
    },
    {
      "cell_type": "code",
      "source": [
        "from sklearn.ensemble import RandomForestClassifier\n",
        "from sklearn.metrics import classification_report"
      ],
      "metadata": {
        "id": "pKvDDC9AjtGE"
      },
      "execution_count": null,
      "outputs": []
    },
    {
      "cell_type": "code",
      "source": [
        "# Instanciando o modelo\n",
        "modelo = RandomForestClassifier(random_state=43, max_features='log2', class_weight = 'balanced')\n",
        "\n",
        "# Treinando o modelo\n",
        "modelo.fit(X_train, y_train)\n",
        "\n",
        "# Fazendo previsões\n",
        "y_pred = modelo.predict(X_test)\n",
        "\n",
        "# Avaliando o modelo\n",
        "print(classification_report(y_test, y_pred))\n"
      ],
      "metadata": {
        "id": "PXoVpmIe5sJ9",
        "colab": {
          "base_uri": "https://localhost:8080/"
        },
        "outputId": "7dcf8e0b-644c-45d1-d320-49e20d7d99f5"
      },
      "execution_count": null,
      "outputs": [
        {
          "output_type": "stream",
          "name": "stdout",
          "text": [
            "              precision    recall  f1-score   support\n",
            "\n",
            "    negativo       0.89      0.95      0.92      3240\n",
            "    positivo       0.95      0.89      0.92      3294\n",
            "\n",
            "    accuracy                           0.92      6534\n",
            "   macro avg       0.92      0.92      0.92      6534\n",
            "weighted avg       0.92      0.92      0.92      6534\n",
            "\n"
          ]
        }
      ]
    }
  ]
}